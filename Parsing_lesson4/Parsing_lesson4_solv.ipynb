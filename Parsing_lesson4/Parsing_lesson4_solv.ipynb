{
 "cells": [
  {
   "cell_type": "code",
   "execution_count": 41,
   "id": "533e6bc2",
   "metadata": {
    "executionInfo": {
     "elapsed": 715,
     "status": "ok",
     "timestamp": 1663067576062,
     "user": {
      "displayName": "Эрик Муллагалиев",
      "userId": "09073712434566956400"
     },
     "user_tz": -180
    },
    "id": "533e6bc2"
   },
   "outputs": [],
   "source": [
    "from pprint import pprint\n",
    "from bs4 import BeautifulSoup as bs\n",
    "import requests\n",
    "from time import sleep"
   ]
  },
  {
   "cell_type": "markdown",
   "id": "ytykLnshhX2L",
   "metadata": {
    "id": "ytykLnshhX2L"
   },
   "source": [
    "## Спарсим данные"
   ]
  },
  {
   "cell_type": "code",
   "execution_count": 42,
   "id": "40c4a466",
   "metadata": {
    "executionInfo": {
     "elapsed": 16,
     "status": "ok",
     "timestamp": 1663067576063,
     "user": {
      "displayName": "Эрик Муллагалиев",
      "userId": "09073712434566956400"
     },
     "user_tz": -180
    },
    "id": "40c4a466"
   },
   "outputs": [],
   "source": [
    "USER_AGENT = 'Mozilla/5.0 (Windows NT 10.0; Win64; x64) AppleWebKit/537.36 (KHTML, like Gecko) Chrome/104.0.0.0 Safari/537.36'\n",
    "\n",
    "URL_FIRST_PAGE_HH = 'https://spb.hh.ru/search/vacancy?area=88&search_field=name&search_field=company_name&search_field=description&text=python&no_magic=true&L_save_area=true&items_on_page=20'"
   ]
  },
  {
   "cell_type": "code",
   "execution_count": 43,
   "id": "3eb58026",
   "metadata": {
    "executionInfo": {
     "elapsed": 16,
     "status": "ok",
     "timestamp": 1663067576064,
     "user": {
      "displayName": "Эрик Муллагалиев",
      "userId": "09073712434566956400"
     },
     "user_tz": -180
    },
    "id": "3eb58026"
   },
   "outputs": [],
   "source": [
    "headers = {\n",
    "    'User-Agent': USER_AGENT,\n",
    "}"
   ]
  },
  {
   "cell_type": "code",
   "execution_count": 44,
   "id": "debb7cfc",
   "metadata": {
    "executionInfo": {
     "elapsed": 15,
     "status": "ok",
     "timestamp": 1663067576064,
     "user": {
      "displayName": "Эрик Муллагалиев",
      "userId": "09073712434566956400"
     },
     "user_tz": -180
    },
    "id": "debb7cfc"
   },
   "outputs": [],
   "source": [
    "def parse_hh(url_page, headers, result=[], index_page=1):\n",
    "    response = requests.get(url_page, headers=headers)\n",
    "    if response.status_code != 200:\n",
    "      print('Парсинг завершен')\n",
    "      return result\n",
    "    else:\n",
    "      print('Cтраница №%d, ссылка: %s'%(index_page, response.url))\n",
    "\n",
    "    dom = bs(response.content, 'html.parser')\n",
    "    vacancies = dom.find_all('div', {'class': 'vacancy-serp-item__layout'})\n",
    "    for vacancy in vacancies:\n",
    "      result.append(parse_vacancy_hh(vacancy))\n",
    "\n",
    "    link_next_page = dom.find('a', {'data-qa': 'pager-next'})\n",
    "    if link_next_page:\n",
    "      link_next_page =  'https://spb.hh.ru' + link_next_page['href']\n",
    "    else:\n",
    "      print('Парсинг завершен')\n",
    "      return result\n",
    "\n",
    "    result = parse_hh(link_next_page, headers, result, index_page+1)   \n",
    "    return result\n",
    "     \n",
    "def parse_vacancy_hh(dom_vacancy):\n",
    "  sleep(0.1)\n",
    "  vacancy_name = dom_vacancy.find('a').text\n",
    "\n",
    "  vacancy_salary = dom_vacancy.find('span', {'class', 'bloko-header-section-3'})\n",
    "  if vacancy_salary:\n",
    "    vacancy_salary = vacancy_salary.text\n",
    "    min_salary, max_salary, currency_salary = clean_salary(vacancy_salary)\n",
    "  else:\n",
    "    min_salary, max_salary, currency_salary = None, None, None\n",
    "\n",
    "  vacancy_link = dom_vacancy.find('a')['href']\n",
    "  \n",
    "  return {\n",
    "      'vacancy_name': vacancy_name,\n",
    "      'vacancy_salary': vacancy_salary,\n",
    "      'min_salary': min_salary,\n",
    "      'max_salary': max_salary,\n",
    "      'currency_salary': currency_salary,\n",
    "      'vacancy_link': vacancy_link,\n",
    "      'vacancy_source': 'hh.ru',\n",
    "  }\n",
    "\n",
    "def clean_salary(vacancy_salary_text, min_salary=None, max_salary=None, currency_salary=None):\n",
    "  list_salary = vacancy_salary_text.replace('\\u202f', '').split()\n",
    "  for i in range(len(list_salary) - 1):\n",
    "    if list_salary[i] == 'от':\n",
    "      min_salary = int(list_salary[i + 1])\n",
    "    elif list_salary[i] == 'до':\n",
    "      max_salary = int(list_salary[i + 1])\n",
    "    elif list_salary[i] == '–':\n",
    "      min_salary = int(list_salary[i - 1])\n",
    "      max_salary = int(list_salary[i + 1])\n",
    "  currency_salary = list_salary[-1]\n",
    "\n",
    "  return min_salary, max_salary, currency_salary"
   ]
  },
  {
   "cell_type": "code",
   "execution_count": 45,
   "id": "6d47b54b",
   "metadata": {
    "colab": {
     "base_uri": "https://localhost:8080/"
    },
    "executionInfo": {
     "elapsed": 35601,
     "status": "ok",
     "timestamp": 1663067611654,
     "user": {
      "displayName": "Эрик Муллагалиев",
      "userId": "09073712434566956400"
     },
     "user_tz": -180
    },
    "id": "6d47b54b",
    "outputId": "83f1cf1c-89de-4fb6-cd2d-f89d9bc70232"
   },
   "outputs": [
    {
     "name": "stdout",
     "output_type": "stream",
     "text": [
      "Cтраница №1, ссылка: https://spb.hh.ru/search/vacancy?area=88&search_field=name&search_field=company_name&search_field=description&text=python&no_magic=true&L_save_area=true&items_on_page=20\n",
      "Cтраница №2, ссылка: https://spb.hh.ru/search/vacancy?area=88&search_field=name&search_field=company_name&search_field=description&text=python&no_magic=true&L_save_area=true&items_on_page=20&page=1&hhtmFrom=vacancy_search_list\n",
      "Cтраница №3, ссылка: https://spb.hh.ru/search/vacancy?area=88&search_field=name&search_field=company_name&search_field=description&text=python&no_magic=true&L_save_area=true&items_on_page=20&page=2&hhtmFrom=vacancy_search_list\n",
      "Cтраница №4, ссылка: https://spb.hh.ru/search/vacancy?area=88&search_field=name&search_field=company_name&search_field=description&text=python&no_magic=true&L_save_area=true&items_on_page=20&page=3&hhtmFrom=vacancy_search_list\n",
      "Cтраница №5, ссылка: https://spb.hh.ru/search/vacancy?area=88&search_field=name&search_field=company_name&search_field=description&text=python&no_magic=true&L_save_area=true&items_on_page=20&page=4&hhtmFrom=vacancy_search_list\n",
      "Cтраница №6, ссылка: https://spb.hh.ru/search/vacancy?area=88&search_field=name&search_field=company_name&search_field=description&text=python&no_magic=true&L_save_area=true&items_on_page=20&page=5&hhtmFrom=vacancy_search_list\n",
      "Cтраница №7, ссылка: https://spb.hh.ru/search/vacancy?area=88&search_field=name&search_field=company_name&search_field=description&text=python&no_magic=true&L_save_area=true&items_on_page=20&page=6&hhtmFrom=vacancy_search_list\n",
      "Cтраница №8, ссылка: https://spb.hh.ru/search/vacancy?area=88&search_field=name&search_field=company_name&search_field=description&text=python&no_magic=true&L_save_area=true&items_on_page=20&page=7&hhtmFrom=vacancy_search_list\n",
      "Cтраница №9, ссылка: https://spb.hh.ru/search/vacancy?area=88&search_field=name&search_field=company_name&search_field=description&text=python&no_magic=true&L_save_area=true&items_on_page=20&page=8&hhtmFrom=vacancy_search_list\n",
      "Cтраница №10, ссылка: https://spb.hh.ru/search/vacancy?area=88&search_field=name&search_field=company_name&search_field=description&text=python&no_magic=true&L_save_area=true&items_on_page=20&page=9&hhtmFrom=vacancy_search_list\n",
      "Парсинг завершен\n"
     ]
    }
   ],
   "source": [
    "result = parse_hh(URL_FIRST_PAGE_HH, headers)"
   ]
  },
  {
   "cell_type": "code",
   "execution_count": 46,
   "id": "Hn-VsMsHdZHO",
   "metadata": {
    "colab": {
     "base_uri": "https://localhost:8080/"
    },
    "executionInfo": {
     "elapsed": 34,
     "status": "ok",
     "timestamp": 1663067611655,
     "user": {
      "displayName": "Эрик Муллагалиев",
      "userId": "09073712434566956400"
     },
     "user_tz": -180
    },
    "id": "Hn-VsMsHdZHO",
    "outputId": "610fbae1-3b0a-483c-e979-acc9c2bd0298"
   },
   "outputs": [
    {
     "data": {
      "text/plain": [
       "200"
      ]
     },
     "execution_count": 46,
     "metadata": {},
     "output_type": "execute_result"
    }
   ],
   "source": [
    "len(result)"
   ]
  },
  {
   "cell_type": "markdown",
   "id": "3LiL9gy2e0CI",
   "metadata": {
    "id": "3LiL9gy2e0CI"
   },
   "source": [
    "## Установим `mongo` сервер и клиент"
   ]
  },
  {
   "cell_type": "code",
   "execution_count": 47,
   "id": "aCqMntcTe1av",
   "metadata": {
    "colab": {
     "base_uri": "https://localhost:8080/"
    },
    "executionInfo": {
     "elapsed": 2732,
     "status": "ok",
     "timestamp": 1663067614357,
     "user": {
      "displayName": "Эрик Муллагалиев",
      "userId": "09073712434566956400"
     },
     "user_tz": -180
    },
    "id": "aCqMntcTe1av",
    "outputId": "b939e166-8cc5-4b3e-97e0-5aaf810050a4"
   },
   "outputs": [
    {
     "name": "stdout",
     "output_type": "stream",
     "text": [
      "\n",
      "WARNING: apt does not have a stable CLI interface. Use with caution in scripts.\n",
      "\n"
     ]
    }
   ],
   "source": [
    "!apt install mongodb > log"
   ]
  },
  {
   "cell_type": "code",
   "execution_count": 48,
   "id": "w89Yg6Fce1ge",
   "metadata": {
    "colab": {
     "base_uri": "https://localhost:8080/"
    },
    "executionInfo": {
     "elapsed": 404,
     "status": "ok",
     "timestamp": 1663067614750,
     "user": {
      "displayName": "Эрик Муллагалиев",
      "userId": "09073712434566956400"
     },
     "user_tz": -180
    },
    "id": "w89Yg6Fce1ge",
    "outputId": "f75862d6-30fe-4eb4-9907-8c0c7a2ff430"
   },
   "outputs": [
    {
     "name": "stdout",
     "output_type": "stream",
     "text": [
      " * Starting database mongodb\n",
      "   ...done.\n"
     ]
    }
   ],
   "source": [
    "!service mongodb start"
   ]
  },
  {
   "cell_type": "code",
   "execution_count": 49,
   "id": "l_iMg9cTe1ix",
   "metadata": {
    "colab": {
     "base_uri": "https://localhost:8080/"
    },
    "executionInfo": {
     "elapsed": 3535,
     "status": "ok",
     "timestamp": 1663067618281,
     "user": {
      "displayName": "Эрик Муллагалиев",
      "userId": "09073712434566956400"
     },
     "user_tz": -180
    },
    "id": "l_iMg9cTe1ix",
    "outputId": "56dafd19-acf6-4be2-d9e5-ecc4907e5cc9"
   },
   "outputs": [
    {
     "name": "stdout",
     "output_type": "stream",
     "text": [
      "Looking in indexes: https://pypi.org/simple, https://us-python.pkg.dev/colab-wheels/public/simple/\n",
      "Requirement already satisfied: pymongo in /usr/local/lib/python3.7/dist-packages (4.2.0)\n"
     ]
    }
   ],
   "source": [
    "!pip install pymongo"
   ]
  },
  {
   "cell_type": "markdown",
   "id": "RxCJDpe7fCKm",
   "metadata": {
    "id": "RxCJDpe7fCKm"
   },
   "source": [
    "## Запишем данные в базу"
   ]
  },
  {
   "cell_type": "code",
   "execution_count": 50,
   "id": "c8qVypyoe0do",
   "metadata": {
    "executionInfo": {
     "elapsed": 67,
     "status": "ok",
     "timestamp": 1663067618283,
     "user": {
      "displayName": "Эрик Муллагалиев",
      "userId": "09073712434566956400"
     },
     "user_tz": -180
    },
    "id": "c8qVypyoe0do"
   },
   "outputs": [],
   "source": [
    "from pymongo import MongoClient"
   ]
  },
  {
   "cell_type": "code",
   "execution_count": 51,
   "id": "xChfpdw9fK_i",
   "metadata": {
    "executionInfo": {
     "elapsed": 63,
     "status": "ok",
     "timestamp": 1663067618284,
     "user": {
      "displayName": "Эрик Муллагалиев",
      "userId": "09073712434566956400"
     },
     "user_tz": -180
    },
    "id": "xChfpdw9fK_i"
   },
   "outputs": [],
   "source": [
    "client = MongoClient()"
   ]
  },
  {
   "cell_type": "code",
   "execution_count": 52,
   "id": "1a2zKCITfMG3",
   "metadata": {
    "executionInfo": {
     "elapsed": 55,
     "status": "ok",
     "timestamp": 1663067618285,
     "user": {
      "displayName": "Эрик Муллагалиев",
      "userId": "09073712434566956400"
     },
     "user_tz": -180
    },
    "id": "1a2zKCITfMG3"
   },
   "outputs": [],
   "source": [
    "db = client.vacancies_python_hh"
   ]
  },
  {
   "cell_type": "code",
   "execution_count": 53,
   "id": "FyfScTbTfN5f",
   "metadata": {
    "executionInfo": {
     "elapsed": 52,
     "status": "ok",
     "timestamp": 1663067618286,
     "user": {
      "displayName": "Эрик Муллагалиев",
      "userId": "09073712434566956400"
     },
     "user_tz": -180
    },
    "id": "FyfScTbTfN5f"
   },
   "outputs": [],
   "source": [
    "collection_vacancies_hh_ru = db.hh_ru"
   ]
  },
  {
   "cell_type": "code",
   "execution_count": 74,
   "id": "a3zb0HJtfPI_",
   "metadata": {
    "executionInfo": {
     "elapsed": 406,
     "status": "ok",
     "timestamp": 1663067738397,
     "user": {
      "displayName": "Эрик Муллагалиев",
      "userId": "09073712434566956400"
     },
     "user_tz": -180
    },
    "id": "a3zb0HJtfPI_"
   },
   "outputs": [],
   "source": [
    "def cheak_and_save_vacancies_in_db(vacancies):\n",
    "  for vacancy in vacancies:\n",
    "    if not len(list(collection_vacancies_hh_ru.find({'vacancy_link': vacancy['vacancy_link']}))):\n",
    "      collection_vacancies_hh_ru.insert_one(vacancy)"
   ]
  },
  {
   "cell_type": "code",
   "execution_count": 75,
   "id": "CpAjLgXOflAd",
   "metadata": {
    "executionInfo": {
     "elapsed": 5,
     "status": "ok",
     "timestamp": 1663067738904,
     "user": {
      "displayName": "Эрик Муллагалиев",
      "userId": "09073712434566956400"
     },
     "user_tz": -180
    },
    "id": "CpAjLgXOflAd"
   },
   "outputs": [],
   "source": [
    "cheak_and_save_vacancies_in_db(result)"
   ]
  },
  {
   "cell_type": "code",
   "execution_count": 76,
   "id": "sun8SzOXflDF",
   "metadata": {
    "executionInfo": {
     "elapsed": 5,
     "status": "ok",
     "timestamp": 1663067738905,
     "user": {
      "displayName": "Эрик Муллагалиев",
      "userId": "09073712434566956400"
     },
     "user_tz": -180
    },
    "id": "sun8SzOXflDF"
   },
   "outputs": [],
   "source": [
    "result_find = list(collection_vacancies_hh_ru.find())"
   ]
  },
  {
   "cell_type": "code",
   "execution_count": 77,
   "id": "ZBgedfYAfl2E",
   "metadata": {
    "colab": {
     "base_uri": "https://localhost:8080/"
    },
    "executionInfo": {
     "elapsed": 5,
     "status": "ok",
     "timestamp": 1663067739178,
     "user": {
      "displayName": "Эрик Муллагалиев",
      "userId": "09073712434566956400"
     },
     "user_tz": -180
    },
    "id": "ZBgedfYAfl2E",
    "outputId": "39b31947-8f42-4243-82b3-57a832b38252"
   },
   "outputs": [
    {
     "data": {
      "text/plain": [
       "200"
      ]
     },
     "execution_count": 77,
     "metadata": {},
     "output_type": "execute_result"
    }
   ],
   "source": [
    "len(result_find)"
   ]
  }
 ],
 "metadata": {
  "colab": {
   "collapsed_sections": [],
   "provenance": []
  },
  "kernelspec": {
   "display_name": "Python 3 (ipykernel)",
   "language": "python",
   "name": "python3"
  },
  "language_info": {
   "codemirror_mode": {
    "name": "ipython",
    "version": 3
   },
   "file_extension": ".py",
   "mimetype": "text/x-python",
   "name": "python",
   "nbconvert_exporter": "python",
   "pygments_lexer": "ipython3",
   "version": "3.8.13"
  }
 },
 "nbformat": 4,
 "nbformat_minor": 5
}
